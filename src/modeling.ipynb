{
 "cells": [
  {
   "cell_type": "code",
   "execution_count": 1,
   "metadata": {
    "collapsed": true,
    "ExecuteTime": {
     "end_time": "2023-09-24T22:01:12.935033Z",
     "start_time": "2023-09-24T22:01:12.620665Z"
    }
   },
   "outputs": [],
   "source": [
    "import pandas as pd"
   ]
  },
  {
   "cell_type": "code",
   "execution_count": 2,
   "outputs": [],
   "source": [
    "cleaned_kaspi_reviews = pd.read_csv('cleaned_kaspi_reviews.csv')"
   ],
   "metadata": {
    "collapsed": false,
    "ExecuteTime": {
     "end_time": "2023-09-24T22:01:13.225358Z",
     "start_time": "2023-09-24T22:01:12.920873Z"
    }
   }
  },
  {
   "cell_type": "code",
   "execution_count": 3,
   "outputs": [
    {
     "data": {
      "text/plain": "(119048, 6)"
     },
     "execution_count": 3,
     "metadata": {},
     "output_type": "execute_result"
    }
   ],
   "source": [
    "cleaned_kaspi_reviews.shape"
   ],
   "metadata": {
    "collapsed": false,
    "ExecuteTime": {
     "end_time": "2023-09-24T22:01:13.237635Z",
     "start_time": "2023-09-24T22:01:13.225476Z"
    }
   }
  },
  {
   "cell_type": "code",
   "execution_count": 4,
   "outputs": [],
   "source": [
    "kazakh_reviews = cleaned_kaspi_reviews[cleaned_kaspi_reviews['language'] == 'kazakh']"
   ],
   "metadata": {
    "collapsed": false,
    "ExecuteTime": {
     "end_time": "2023-09-24T22:01:13.237710Z",
     "start_time": "2023-09-24T22:01:13.230307Z"
    }
   }
  },
  {
   "cell_type": "code",
   "execution_count": 5,
   "outputs": [
    {
     "data": {
      "text/plain": "rating\n5.0    5796\n4.0     542\n3.0     175\n1.0     171\n2.0      72\nName: count, dtype: int64"
     },
     "execution_count": 5,
     "metadata": {},
     "output_type": "execute_result"
    }
   ],
   "source": [
    "kazakh_reviews.value_counts('rating')"
   ],
   "metadata": {
    "collapsed": false,
    "ExecuteTime": {
     "end_time": "2023-09-24T22:01:13.237932Z",
     "start_time": "2023-09-24T22:01:13.233391Z"
    }
   }
  },
  {
   "cell_type": "code",
   "execution_count": 6,
   "outputs": [],
   "source": [
    "kazakh_reviews = kazakh_reviews.drop(columns=['Unnamed: 0.1', 'Unnamed: 0', 'category', 'language'])"
   ],
   "metadata": {
    "collapsed": false,
    "ExecuteTime": {
     "end_time": "2023-09-24T22:01:13.376580Z",
     "start_time": "2023-09-24T22:01:13.373992Z"
    }
   }
  },
  {
   "cell_type": "code",
   "execution_count": 7,
   "outputs": [],
   "source": [
    "kazakh_reviews['target'] = kazakh_reviews['rating'].apply(lambda x: 0 if x>=4 else 1)"
   ],
   "metadata": {
    "collapsed": false,
    "ExecuteTime": {
     "end_time": "2023-09-24T22:01:13.489369Z",
     "start_time": "2023-09-24T22:01:13.477512Z"
    }
   }
  },
  {
   "cell_type": "code",
   "execution_count": 8,
   "outputs": [
    {
     "data": {
      "text/plain": "        rating                                      combined_text  target\n3          5.0                              иісі қатты ұнады . \\n       0\n24         5.0              keremet !  48 sagatka dein ustaidy \\n       0\n43         5.0                 иісі өте керемет ,  маған унада \\n       0\n56         5.0  салқын ,  әдемі ,  жағымды жұпар . бірақ иісі ...       0\n92         5.0                                   маған ұнады ! \\n       0\n...        ...                                                ...     ...\n118821     5.0    керемет . алуға кеңес брать . микрофон жоқ . \\n       0\n118898     5.0  артықшылығы :  дыбыс ,  естілуі ,  формалық тү...       0\n118920     5.0  бәрі жақсы . екі телефонға қосылады . қуаты те...       0\n118921     4.0  алғаныма 15 күн болда . әзірге жақсы істеп тұр...       0\n118976     5.0  құлаққап болад ,  бас онша емес екен . sony xb...       0\n\n[6756 rows x 3 columns]",
      "text/html": "<div>\n<style scoped>\n    .dataframe tbody tr th:only-of-type {\n        vertical-align: middle;\n    }\n\n    .dataframe tbody tr th {\n        vertical-align: top;\n    }\n\n    .dataframe thead th {\n        text-align: right;\n    }\n</style>\n<table border=\"1\" class=\"dataframe\">\n  <thead>\n    <tr style=\"text-align: right;\">\n      <th></th>\n      <th>rating</th>\n      <th>combined_text</th>\n      <th>target</th>\n    </tr>\n  </thead>\n  <tbody>\n    <tr>\n      <th>3</th>\n      <td>5.0</td>\n      <td>иісі қатты ұнады . \\n</td>\n      <td>0</td>\n    </tr>\n    <tr>\n      <th>24</th>\n      <td>5.0</td>\n      <td>keremet !  48 sagatka dein ustaidy \\n</td>\n      <td>0</td>\n    </tr>\n    <tr>\n      <th>43</th>\n      <td>5.0</td>\n      <td>иісі өте керемет ,  маған унада \\n</td>\n      <td>0</td>\n    </tr>\n    <tr>\n      <th>56</th>\n      <td>5.0</td>\n      <td>салқын ,  әдемі ,  жағымды жұпар . бірақ иісі ...</td>\n      <td>0</td>\n    </tr>\n    <tr>\n      <th>92</th>\n      <td>5.0</td>\n      <td>маған ұнады ! \\n</td>\n      <td>0</td>\n    </tr>\n    <tr>\n      <th>...</th>\n      <td>...</td>\n      <td>...</td>\n      <td>...</td>\n    </tr>\n    <tr>\n      <th>118821</th>\n      <td>5.0</td>\n      <td>керемет . алуға кеңес брать . микрофон жоқ . \\n</td>\n      <td>0</td>\n    </tr>\n    <tr>\n      <th>118898</th>\n      <td>5.0</td>\n      <td>артықшылығы :  дыбыс ,  естілуі ,  формалық тү...</td>\n      <td>0</td>\n    </tr>\n    <tr>\n      <th>118920</th>\n      <td>5.0</td>\n      <td>бәрі жақсы . екі телефонға қосылады . қуаты те...</td>\n      <td>0</td>\n    </tr>\n    <tr>\n      <th>118921</th>\n      <td>4.0</td>\n      <td>алғаныма 15 күн болда . әзірге жақсы істеп тұр...</td>\n      <td>0</td>\n    </tr>\n    <tr>\n      <th>118976</th>\n      <td>5.0</td>\n      <td>құлаққап болад ,  бас онша емес екен . sony xb...</td>\n      <td>0</td>\n    </tr>\n  </tbody>\n</table>\n<p>6756 rows × 3 columns</p>\n</div>"
     },
     "execution_count": 8,
     "metadata": {},
     "output_type": "execute_result"
    }
   ],
   "source": [
    "kazakh_reviews"
   ],
   "metadata": {
    "collapsed": false,
    "ExecuteTime": {
     "end_time": "2023-09-24T22:01:13.640452Z",
     "start_time": "2023-09-24T22:01:13.612129Z"
    }
   }
  },
  {
   "cell_type": "code",
   "execution_count": 9,
   "outputs": [
    {
     "data": {
      "text/plain": "target\n0    6338\n1     418\nName: count, dtype: int64"
     },
     "execution_count": 9,
     "metadata": {},
     "output_type": "execute_result"
    }
   ],
   "source": [
    "kazakh_reviews.value_counts('target')"
   ],
   "metadata": {
    "collapsed": false,
    "ExecuteTime": {
     "end_time": "2023-09-24T22:01:13.734554Z",
     "start_time": "2023-09-24T22:01:13.730683Z"
    }
   }
  },
  {
   "cell_type": "code",
   "execution_count": 10,
   "outputs": [
    {
     "data": {
      "text/plain": "'иісі қатты ұнады . \\n'"
     },
     "execution_count": 10,
     "metadata": {},
     "output_type": "execute_result"
    }
   ],
   "source": [
    "kazakh_reviews.iloc[0].combined_text"
   ],
   "metadata": {
    "collapsed": false,
    "ExecuteTime": {
     "end_time": "2023-09-24T22:01:13.917593Z",
     "start_time": "2023-09-24T22:01:13.874706Z"
    }
   }
  },
  {
   "cell_type": "code",
   "execution_count": 11,
   "outputs": [
    {
     "data": {
      "text/plain": "           combined_text  target\n3  иісі қатты ұнады . \\n       0",
      "text/html": "<div>\n<style scoped>\n    .dataframe tbody tr th:only-of-type {\n        vertical-align: middle;\n    }\n\n    .dataframe tbody tr th {\n        vertical-align: top;\n    }\n\n    .dataframe thead th {\n        text-align: right;\n    }\n</style>\n<table border=\"1\" class=\"dataframe\">\n  <thead>\n    <tr style=\"text-align: right;\">\n      <th></th>\n      <th>combined_text</th>\n      <th>target</th>\n    </tr>\n  </thead>\n  <tbody>\n    <tr>\n      <th>3</th>\n      <td>иісі қатты ұнады . \\n</td>\n      <td>0</td>\n    </tr>\n  </tbody>\n</table>\n</div>"
     },
     "execution_count": 11,
     "metadata": {},
     "output_type": "execute_result"
    }
   ],
   "source": [
    "kazakh_reviews.head(1)\n",
    "kazakh_reviews = kazakh_reviews.drop(columns=['rating'])\n",
    "kazakh_reviews.head(1)"
   ],
   "metadata": {
    "collapsed": false,
    "ExecuteTime": {
     "end_time": "2023-09-24T22:01:14.012335Z",
     "start_time": "2023-09-24T22:01:13.987320Z"
    }
   }
  },
  {
   "cell_type": "code",
   "execution_count": 0,
   "outputs": [],
   "source": [
    "from sklearn.model_selection import train_test_split\n",
    "\n",
    "\n",
    "train_data, test_data = train_test_split(\n",
    "    kazakh_reviews, test_size=0.2, random_state=42, stratify=kazakh_reviews.target\n",
    ")"
   ],
   "metadata": {
    "collapsed": false
   }
  },
  {
   "cell_type": "code",
   "execution_count": 17,
   "outputs": [],
   "source": [
    "train_data.to_csv('train_data.csv')\n",
    "test_data.to_csv('test.csv')"
   ],
   "metadata": {
    "collapsed": false,
    "ExecuteTime": {
     "end_time": "2023-09-24T22:47:00.364424Z",
     "start_time": "2023-09-24T22:47:00.325317Z"
    }
   }
  },
  {
   "cell_type": "code",
   "execution_count": 14,
   "outputs": [
    {
     "name": "stdout",
     "output_type": "stream",
     "text": [
      "FULL Dataset: (6756, 2)\n",
      "TRAIN Dataset: (5404, 2)\n",
      "TEST Dataset: (1352, 2)\n"
     ]
    },
    {
     "name": "stderr",
     "output_type": "stream",
     "text": [
      "Some weights of RobertaModel were not initialized from the model checkpoint at kz-transformers/kaz-roberta-conversational and are newly initialized: ['roberta.pooler.dense.bias', 'roberta.pooler.dense.weight']\n",
      "You should probably TRAIN this model on a down-stream task to be able to use it for predictions and inference.\n"
     ]
    }
   ],
   "source": [
    "\n",
    "\n",
    "train_data.reset_index(drop=True, inplace=True)\n",
    "test_data.reset_index(drop=True, inplace=True)\n",
    "from torch import cuda\n",
    "device = 'cuda' if cuda.is_available() else 'cpu'\n",
    "from transformers import AutoTokenizer\n",
    "from transformers import RobertaModel\n",
    "from torch.utils.data import Dataset, DataLoader\n",
    "import torch\n",
    "\n",
    "\n",
    "MAX_LEN = 256\n",
    "TRAIN_BATCH_SIZE = 8\n",
    "VALID_BATCH_SIZE = 4\n",
    "EPOCHS = 3\n",
    "LEARNING_RATE = 1e-05\n",
    "\n",
    "tokenizer = AutoTokenizer.from_pretrained(\"kz-transformers/kaz-roberta-conversational\")\n",
    "\n",
    "class ReviewsData(Dataset):\n",
    "    def __init__(self, dataframe, tokenizer, max_len):\n",
    "        self.tokenizer = tokenizer\n",
    "        self.data = dataframe\n",
    "        self.text = dataframe.combined_text\n",
    "        self.targets = self.data.target\n",
    "        self.max_len = max_len\n",
    "\n",
    "    def __len__(self):\n",
    "        return len(self.text)\n",
    "\n",
    "    def __getitem__(self, index):\n",
    "        text = str(self.text[index])\n",
    "        text = \" \".join(text.split())\n",
    "\n",
    "        inputs = self.tokenizer.encode_plus(\n",
    "            text,\n",
    "            None,\n",
    "            add_special_tokens=False,\n",
    "            max_length=self.max_len,\n",
    "            padding=False,\n",
    "            truncation=True,\n",
    "            return_token_type_ids=True\n",
    "        )\n",
    "        ids = inputs['input_ids']\n",
    "        mask = inputs['attention_mask']\n",
    "        token_type_ids = inputs[\"token_type_ids\"]\n",
    "\n",
    "\n",
    "        return {\n",
    "            'ids': torch.tensor(ids, dtype=torch.long),\n",
    "            'mask': torch.tensor(mask, dtype=torch.long),\n",
    "            'token_type_ids': torch.tensor(token_type_ids, dtype=torch.long),\n",
    "            'targets': torch.tensor(self.targets[index], dtype=torch.long)\n",
    "        }\n",
    "from torch.nn.utils.rnn import pad_sequence\n",
    "\n",
    "def collator(items):\n",
    "    return {\n",
    "        \"ids\": torch.permute(pad_sequence([i[\"ids\"] for i in items]), (1, 0)),\n",
    "        \"mask\": torch.permute(pad_sequence([i[\"mask\"] for i in items]), (1, 0)),\n",
    "        \"token_type_ids\": torch.permute(\n",
    "            pad_sequence([i[\"token_type_ids\"] for i in items]), (1, 0)\n",
    "        ),\n",
    "        \"targets\": torch.permute(pad_sequence([i[\"targets\"].unsqueeze(0) for i in items]), (1, 0)),\n",
    "    }\n",
    "print(\"FULL Dataset: {}\".format(kazakh_reviews.shape))\n",
    "print(\"TRAIN Dataset: {}\".format(train_data.shape))\n",
    "print(\"TEST Dataset: {}\".format(test_data.shape))\n",
    "\n",
    "training_set = ReviewsData(train_data, tokenizer, MAX_LEN)\n",
    "testing_set = ReviewsData(test_data, tokenizer, MAX_LEN)\n",
    "train_params = {'batch_size': TRAIN_BATCH_SIZE,\n",
    "                'shuffle': True,\n",
    "                'num_workers': 0,\n",
    "                'collate_fn': collator\n",
    "                }\n",
    "\n",
    "test_params = {'batch_size': VALID_BATCH_SIZE,\n",
    "                'shuffle': False,\n",
    "                'num_workers': 0,\n",
    "                'collate_fn': collator\n",
    "                }\n",
    "\n",
    "training_loader = DataLoader(training_set, **train_params)\n",
    "testing_loader = DataLoader(testing_set, **test_params)\n",
    "class RobertaClass(torch.nn.Module):\n",
    "    def __init__(self):\n",
    "        super(RobertaClass, self).__init__()\n",
    "        self.l1 = RobertaModel.from_pretrained(\"kz-transformers/kaz-roberta-conversational\")\n",
    "        self.pre_classifier = torch.nn.Linear(768, 768)\n",
    "        self.dropout = torch.nn.Dropout(0.3)\n",
    "        self.classifier = torch.nn.Linear(768, 1)\n",
    "\n",
    "    def forward(self, input_ids, attention_mask, token_type_ids):\n",
    "        output_1 = self.l1(input_ids=input_ids, attention_mask=attention_mask, token_type_ids=token_type_ids)\n",
    "        hidden_state = output_1[0]\n",
    "        pooler = hidden_state[:, 0]\n",
    "        pooler = self.pre_classifier(pooler)\n",
    "        pooler = torch.nn.ReLU()(pooler)\n",
    "        pooler = self.dropout(pooler)\n",
    "        output = self.classifier(pooler)\n",
    "        return output\n",
    "model = RobertaClass()\n",
    "model.to(device)\n",
    "# Creating the loss function and optimizer\n",
    "loss_function = torch.nn.BCEWithLogitsLoss()\n",
    "\n",
    "# for param in model.parameters():\n",
    "#     param.requires_grad = False\n",
    "#\n",
    "# for param in model.pre_classifier.parameters():\n",
    "#     param.requires_grad = True\n",
    "#\n",
    "# for param in model.classifier.parameters():\n",
    "#     param.requires_grad = True\n",
    "#\n",
    "# for param in model.l1.pooler.parameters():\n",
    "#     param.requires_grad = True\n",
    "#\n",
    "#\n",
    "# optimizer = torch.optim.Adam(\n",
    "#     params=list(model.pre_classifier.parameters()) + list(model.classifier.parameters()) + list(model.l1.pooler.parameters()),\n",
    "#     lr=LEARNING_RATE\n",
    "# )\n",
    "optimizer = torch.optim.Adam(params =  model.parameters(), lr=LEARNING_RATE)\n",
    "\n",
    "import torch\n",
    "import numpy as np\n",
    "from sklearn.metrics import (\n",
    "    roc_auc_score,\n",
    "    average_precision_score,\n",
    "    f1_score,\n",
    ")\n",
    "\n",
    "def loss_fn(outputs, targets):\n",
    "    return torch.nn.BCEWithLogitsLoss()(outputs, targets.float())\n",
    "\n",
    "def train_one_epoch(model, training_loader, optimizer):\n",
    "    model.train()\n",
    "    epoch_loss = 0\n",
    "    for n, data in enumerate(training_loader, 0):\n",
    "        optimizer.zero_grad()\n",
    "\n",
    "        ids = data['ids'].to(device, dtype=torch.long)\n",
    "        mask = data['mask'].to(device, dtype=torch.long)\n",
    "        token_type_ids = data['token_type_ids'].to(device, dtype=torch.long)\n",
    "        targets = data['targets'].to(device, dtype=torch.long)\n",
    "\n",
    "        outputs = model(ids, mask, token_type_ids)\n",
    "\n",
    "        loss = loss_fn(outputs, targets)\n",
    "\n",
    "        loss.backward()\n",
    "        optimizer.step()\n",
    "\n",
    "        epoch_loss += loss.item()\n",
    "\n",
    "    return epoch_loss / (n + 1)\n",
    "\n",
    "def validation(model, testing_loader):\n",
    "    model.eval()\n",
    "    epoch_loss = 0\n",
    "    val_targets = []\n",
    "    val_preds = []\n",
    "    with torch.no_grad():\n",
    "        for _, data in enumerate(testing_loader, 0):\n",
    "            ids = data[\"ids\"]\n",
    "            mask = data[\"mask\"]\n",
    "            token_type_ids = data[\"token_type_ids\"]\n",
    "            targets = data[\"targets\"]\n",
    "            outputs = model(ids, mask, token_type_ids)\n",
    "\n",
    "            loss = loss_fn(outputs, targets)\n",
    "\n",
    "            val_targets.extend(targets.cpu().detach().numpy().tolist())\n",
    "            val_preds.extend(torch.sigmoid(outputs).cpu().detach().numpy().tolist())\n",
    "\n",
    "            epoch_loss += loss.item()\n",
    "\n",
    "\n",
    "    val_targets = np.concatenate(val_targets)\n",
    "    val_preds = np.concatenate(val_preds)\n",
    "    auc = roc_auc_score(val_targets, val_preds)\n",
    "    ap = average_precision_score(val_targets, val_preds)\n",
    "    f1 = f1_score(val_targets, val_preds > 0.5)\n",
    "\n",
    "\n",
    "    return (\n",
    "        epoch_loss / len(testing_loader),\n",
    "        val_targets,\n",
    "        val_preds,\n",
    "        auc,\n",
    "        ap,\n",
    "        f1,\n",
    "    )\n",
    "\n",
    "def train_loop(model, train_loader, val_loader, optimizer, proj_config=None):\n",
    "    best_valid_loss = np.inf\n",
    "    max_epochs_without_improvement = 2\n",
    "    epochs_without_improvement = 0\n",
    "\n",
    "    for epoch in range(EPOCHS):\n",
    "\n",
    "        train_loss = train_one_epoch(model, train_loader, optimizer)\n",
    "        valid_loss, _, _, auc, ap, f1 = validation(model, val_loader)\n",
    "\n",
    "        # if valid_loss < best_valid_loss:\n",
    "        #     best_valid_loss = valid_loss\n",
    "        #     epochs_without_improvement = 0\n",
    "        #     torch.save(model.state_dict(), f\"{proj_config.export_dir}_old_new/{proj_config.tag}_{proj_config.batch_size}_{proj_config.lr}\")\n",
    "        # else:\n",
    "        #     epochs_without_improvement += 1\n",
    "\n",
    "        if epochs_without_improvement >= max_epochs_without_improvement:\n",
    "            print(f\"No improvement in {max_epochs_without_improvement} epochs. Early stopping...\")\n",
    "            break\n",
    "\n",
    "\n",
    "        print({\n",
    "            \"training_ep_loss\": train_loss,\n",
    "            \"valid_ep_loss\": valid_loss,\n",
    "            \"ROC_AUC\": auc,\n",
    "            \"AP\": ap,\n",
    "            \"f1\": f1,\n",
    "        })\n",
    "\n",
    "\n",
    "    return None\n"
   ],
   "metadata": {
    "collapsed": false,
    "ExecuteTime": {
     "end_time": "2023-09-24T22:10:12.332004Z",
     "start_time": "2023-09-24T22:10:07.338397Z"
    }
   }
  },
  {
   "cell_type": "code",
   "execution_count": 15,
   "outputs": [
    {
     "name": "stdout",
     "output_type": "stream",
     "text": [
      "{'training_ep_loss': 0.1666705386841273, 'valid_ep_loss': 0.1259079661176226, 'ROC_AUC': 0.944151832657353, 'AP': 0.6376831919386384, 'f1': 0.45161290322580644}\n",
      "{'training_ep_loss': 0.11355628754933965, 'valid_ep_loss': 0.12211342206839251, 'ROC_AUC': 0.9560659831756047, 'AP': 0.6843043058896173, 'f1': 0.504201680672269}\n",
      "{'training_ep_loss': 0.0742247105412841, 'valid_ep_loss': 0.14325666777960427, 'ROC_AUC': 0.9476350082619798, 'AP': 0.6237013729258315, 'f1': 0.5696202531645569}\n"
     ]
    }
   ],
   "source": [
    "train_loop(model, training_loader, testing_loader, optimizer)"
   ],
   "metadata": {
    "collapsed": false,
    "ExecuteTime": {
     "end_time": "2023-09-24T22:28:05.522634Z",
     "start_time": "2023-09-24T22:10:12.308625Z"
    }
   }
  },
  {
   "cell_type": "code",
   "execution_count": 24,
   "outputs": [],
   "source": [
    "model.eval()\n",
    "epoch_loss = 0\n",
    "val_targets = []\n",
    "val_preds = []\n",
    "with torch.no_grad():\n",
    "    for _, data in enumerate(testing_loader, 0):\n",
    "        ids = data[\"ids\"]\n",
    "        mask = data[\"mask\"]\n",
    "        token_type_ids = data[\"token_type_ids\"]\n",
    "        targets = data[\"targets\"]\n",
    "        outputs = model(ids, mask, token_type_ids)\n",
    "\n",
    "        loss = loss_fn(outputs, targets)\n",
    "\n",
    "        val_targets.extend(targets.cpu().detach().numpy().tolist())\n",
    "        val_preds.extend(torch.sigmoid(outputs).cpu().detach().numpy().tolist())\n",
    "\n",
    "        epoch_loss += loss.item()\n",
    "\n",
    "targets = np.array(val_targets)\n",
    "outputs = np.array(val_preds)\n",
    "\n",
    "val_targets = np.concatenate(val_targets)\n",
    "val_preds = np.concatenate(val_preds)\n",
    "auc = roc_auc_score(val_targets, val_preds)\n",
    "ap = average_precision_score(val_targets, val_preds)\n",
    "f1 = f1_score(val_targets, val_preds > 0.5)"
   ],
   "metadata": {
    "collapsed": false,
    "ExecuteTime": {
     "end_time": "2023-09-24T21:46:48.579330Z",
     "start_time": "2023-09-24T21:46:38.217804Z"
    }
   }
  },
  {
   "cell_type": "code",
   "execution_count": 25,
   "outputs": [
    {
     "data": {
      "text/plain": "0.06818181818181818"
     },
     "execution_count": 25,
     "metadata": {},
     "output_type": "execute_result"
    }
   ],
   "source": [
    "f1"
   ],
   "metadata": {
    "collapsed": false,
    "ExecuteTime": {
     "end_time": "2023-09-24T21:46:53.169516Z",
     "start_time": "2023-09-24T21:46:53.165244Z"
    }
   }
  },
  {
   "cell_type": "code",
   "execution_count": null,
   "outputs": [],
   "source": [
    "f1_score(val_targets, val_preds > 0.5)"
   ],
   "metadata": {
    "collapsed": false
   }
  },
  {
   "cell_type": "code",
   "execution_count": null,
   "outputs": [],
   "source": [
    "tokenizer.decode(testing_set[155]['ids'])"
   ],
   "metadata": {
    "collapsed": false
   }
  },
  {
   "cell_type": "code",
   "execution_count": null,
   "outputs": [],
   "source": [
    "val_targets"
   ],
   "metadata": {
    "collapsed": false
   }
  },
  {
   "cell_type": "code",
   "execution_count": null,
   "outputs": [],
   "source": [
    "val_preds = pd.DataFrame((val_preds>0.5), columns=['pred'])"
   ],
   "metadata": {
    "collapsed": false
   }
  },
  {
   "cell_type": "code",
   "execution_count": null,
   "outputs": [],
   "source": [
    "val_preds"
   ],
   "metadata": {
    "collapsed": false
   }
  },
  {
   "cell_type": "code",
   "execution_count": null,
   "outputs": [],
   "source": [
    "idxs = val_preds[val_preds['pred']==True].reset_index()['index'].to_list()"
   ],
   "metadata": {
    "collapsed": false
   }
  },
  {
   "cell_type": "code",
   "execution_count": null,
   "outputs": [],
   "source": [
    "idxs"
   ],
   "metadata": {
    "collapsed": false
   }
  },
  {
   "cell_type": "code",
   "execution_count": null,
   "outputs": [],
   "source": [
    "for i in idxs:\n",
    "    print(tokenizer.decode(testing_set[i]['ids']))\n",
    "    print(val_targets[i])\n",
    "    print()"
   ],
   "metadata": {
    "collapsed": false
   }
  },
  {
   "cell_type": "code",
   "execution_count": null,
   "outputs": [],
   "source": [
    "val_targets = pd.DataFrame((val_targets), columns=['label'])"
   ],
   "metadata": {
    "collapsed": false
   }
  },
  {
   "cell_type": "code",
   "execution_count": null,
   "outputs": [],
   "source": [
    "idxs = val_targets[val_targets['label']==1].reset_index()['index'].to_list()"
   ],
   "metadata": {
    "collapsed": false
   }
  },
  {
   "cell_type": "code",
   "execution_count": null,
   "outputs": [],
   "source": [
    "for i in idxs:\n",
    "    print(tokenizer.decode(testing_set[i]['ids']))\n",
    "    print(val_preds.iloc[i])\n",
    "    print()"
   ],
   "metadata": {
    "collapsed": false
   }
  },
  {
   "cell_type": "code",
   "execution_count": null,
   "outputs": [],
   "source": [],
   "metadata": {
    "collapsed": false
   }
  }
 ],
 "metadata": {
  "kernelspec": {
   "display_name": "Python 3",
   "language": "python",
   "name": "python3"
  },
  "language_info": {
   "codemirror_mode": {
    "name": "ipython",
    "version": 2
   },
   "file_extension": ".py",
   "mimetype": "text/x-python",
   "name": "python",
   "nbconvert_exporter": "python",
   "pygments_lexer": "ipython2",
   "version": "2.7.6"
  }
 },
 "nbformat": 4,
 "nbformat_minor": 0
}
